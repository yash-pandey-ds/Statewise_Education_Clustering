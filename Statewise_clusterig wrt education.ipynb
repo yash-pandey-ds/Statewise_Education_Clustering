{
 "cells": [
  {
   "cell_type": "code",
   "execution_count": 4,
   "id": "913c9f10",
   "metadata": {},
   "outputs": [],
   "source": [
    "# Importing necessary Libraries for the analysis\n",
    "\n",
    "import pandas as pd, numpy as np\n",
    "import matplotlib.pyplot as plt, seaborn as sns\n",
    "%matplotlib inline\n",
    "import warnings\n",
    "warnings.filterwarnings('ignore')\n",
    "from sklearn.preprocessing import StandardScaler\n",
    "from sklearn.cluster import KMeans\n",
    "from sklearn.neighbors import NearestNeighbors\n",
    "from random import sample\n",
    "from numpy.random import uniform\n",
    "import numpy as np,pandas as pd\n",
    "from math import isnan\n",
    "from sklearn.metrics import silhouette_score"
   ]
  },
  {
   "cell_type": "code",
   "execution_count": 5,
   "id": "269fc1fe",
   "metadata": {},
   "outputs": [
    {
     "data": {
      "text/html": [
       "<div>\n",
       "<style scoped>\n",
       "    .dataframe tbody tr th:only-of-type {\n",
       "        vertical-align: middle;\n",
       "    }\n",
       "\n",
       "    .dataframe tbody tr th {\n",
       "        vertical-align: top;\n",
       "    }\n",
       "\n",
       "    .dataframe thead th {\n",
       "        text-align: right;\n",
       "    }\n",
       "</style>\n",
       "<table border=\"1\" class=\"dataframe\">\n",
       "  <thead>\n",
       "    <tr style=\"text-align: right;\">\n",
       "      <th></th>\n",
       "      <th>Area Name</th>\n",
       "      <th>Illiterate</th>\n",
       "      <th>Graduate &amp; above</th>\n",
       "      <th>Total - Population</th>\n",
       "      <th>Percentage Illiterate</th>\n",
       "      <th>Percentage Graduate &amp; above</th>\n",
       "    </tr>\n",
       "  </thead>\n",
       "  <tbody>\n",
       "    <tr>\n",
       "      <th>0</th>\n",
       "      <td>State - JAMMU &amp; KASHMIR</td>\n",
       "      <td>3378518</td>\n",
       "      <td>385463</td>\n",
       "      <td>12541302</td>\n",
       "      <td>26.939133</td>\n",
       "      <td>3.073549</td>\n",
       "    </tr>\n",
       "    <tr>\n",
       "      <th>1</th>\n",
       "      <td>State - HIMACHAL PRADESH</td>\n",
       "      <td>963742</td>\n",
       "      <td>267936</td>\n",
       "      <td>6864602</td>\n",
       "      <td>14.039299</td>\n",
       "      <td>3.903154</td>\n",
       "    </tr>\n",
       "    <tr>\n",
       "      <th>2</th>\n",
       "      <td>State - PUNJAB</td>\n",
       "      <td>4886265</td>\n",
       "      <td>979525</td>\n",
       "      <td>27743338</td>\n",
       "      <td>17.612390</td>\n",
       "      <td>3.530667</td>\n",
       "    </tr>\n",
       "    <tr>\n",
       "      <th>3</th>\n",
       "      <td>State - CHANDIGARH</td>\n",
       "      <td>175200</td>\n",
       "      <td>91276</td>\n",
       "      <td>1055450</td>\n",
       "      <td>16.599555</td>\n",
       "      <td>8.648065</td>\n",
       "    </tr>\n",
       "    <tr>\n",
       "      <th>4</th>\n",
       "      <td>State - UTTARAKHAND</td>\n",
       "      <td>1929236</td>\n",
       "      <td>525301</td>\n",
       "      <td>10086292</td>\n",
       "      <td>19.127307</td>\n",
       "      <td>5.208069</td>\n",
       "    </tr>\n",
       "  </tbody>\n",
       "</table>\n",
       "</div>"
      ],
      "text/plain": [
       "                  Area Name  Illiterate  Graduate & above  Total - Population  \\\n",
       "0   State - JAMMU & KASHMIR     3378518            385463            12541302   \n",
       "1  State - HIMACHAL PRADESH      963742            267936             6864602   \n",
       "2            State - PUNJAB     4886265            979525            27743338   \n",
       "3        State - CHANDIGARH      175200             91276             1055450   \n",
       "4       State - UTTARAKHAND     1929236            525301            10086292   \n",
       "\n",
       "   Percentage Illiterate  Percentage Graduate & above  \n",
       "0              26.939133                     3.073549  \n",
       "1              14.039299                     3.903154  \n",
       "2              17.612390                     3.530667  \n",
       "3              16.599555                     8.648065  \n",
       "4              19.127307                     5.208069  "
      ]
     },
     "execution_count": 5,
     "metadata": {},
     "output_type": "execute_result"
    }
   ],
   "source": [
    "# reading the data\n",
    "\n",
    "df=pd.read_excel(r\"c:\\Users\\Admin\\Downloads\\Main.xlsx\")\n",
    "df.head()"
   ]
  },
  {
   "cell_type": "code",
   "execution_count": 6,
   "id": "4363e7e7",
   "metadata": {},
   "outputs": [
    {
     "name": "stdout",
     "output_type": "stream",
     "text": [
      "<class 'pandas.core.frame.DataFrame'>\n",
      "RangeIndex: 35 entries, 0 to 34\n",
      "Data columns (total 6 columns):\n",
      " #   Column                       Non-Null Count  Dtype  \n",
      "---  ------                       --------------  -----  \n",
      " 0   Area Name                    35 non-null     object \n",
      " 1   Illiterate                   35 non-null     int64  \n",
      " 2   Graduate & above             35 non-null     int64  \n",
      " 3   Total - Population           35 non-null     int64  \n",
      " 4   Percentage Illiterate        35 non-null     float64\n",
      " 5   Percentage Graduate & above  35 non-null     float64\n",
      "dtypes: float64(2), int64(3), object(1)\n",
      "memory usage: 1.8+ KB\n",
      "None\n",
      "-/--/--/--/--/--/--/--/--/--/--/--/--/--/--/--/--/--/--/--/-\n",
      "         Illiterate  Graduate & above  Total - Population  \\\n",
      "count  3.500000e+01      3.500000e+01        3.500000e+01   \n",
      "mean   7.678103e+06      1.075194e+06        3.459586e+07   \n",
      "std    1.133721e+07      1.399289e+06        4.445234e+07   \n",
      "min    8.337000e+03      1.482000e+03        6.447300e+04   \n",
      "25%    3.098615e+05      5.948800e+04        1.421136e+06   \n",
      "50%    3.378518e+06      5.253010e+05        1.678794e+07   \n",
      "75%    1.036886e+07      1.596484e+06        6.076749e+07   \n",
      "max    5.422576e+07      5.741485e+06        1.998123e+08   \n",
      "\n",
      "       Percentage Illiterate  Percentage Graduate & above  \n",
      "count              35.000000                    35.000000  \n",
      "mean               20.101981                     3.483161  \n",
      "std                 5.762072                     1.661141  \n",
      "min                11.176535                     1.454525  \n",
      "25%                16.076337                     2.333452  \n",
      "50%                19.405567                     3.073549  \n",
      "75%                24.170387                     4.106503  \n",
      "max                33.460356                     8.648065  \n"
     ]
    }
   ],
   "source": [
    "print(df.info())\n",
    "print(\"-/-\"*20)\n",
    "print(df.describe())"
   ]
  },
  {
   "cell_type": "code",
   "execution_count": 7,
   "id": "cfcf944a",
   "metadata": {},
   "outputs": [],
   "source": [
    "# Scaling the Data\n",
    "\n",
    "scaler=StandardScaler()\n",
    "df_scaled=scaler.fit_transform(df.iloc[:,1:])"
   ]
  },
  {
   "cell_type": "code",
   "execution_count": 8,
   "id": "2474c72c",
   "metadata": {},
   "outputs": [
    {
     "data": {
      "text/html": [
       "<div>\n",
       "<style scoped>\n",
       "    .dataframe tbody tr th:only-of-type {\n",
       "        vertical-align: middle;\n",
       "    }\n",
       "\n",
       "    .dataframe tbody tr th {\n",
       "        vertical-align: top;\n",
       "    }\n",
       "\n",
       "    .dataframe thead th {\n",
       "        text-align: right;\n",
       "    }\n",
       "</style>\n",
       "<table border=\"1\" class=\"dataframe\">\n",
       "  <thead>\n",
       "    <tr style=\"text-align: right;\">\n",
       "      <th></th>\n",
       "      <th>Illiterate</th>\n",
       "      <th>Graduate &amp; above</th>\n",
       "      <th>Total - Population</th>\n",
       "      <th>Percentage Illiterate</th>\n",
       "      <th>Percentage Graduate &amp; above</th>\n",
       "    </tr>\n",
       "  </thead>\n",
       "  <tbody>\n",
       "    <tr>\n",
       "      <th>0</th>\n",
       "      <td>-0.384782</td>\n",
       "      <td>-0.500111</td>\n",
       "      <td>-0.503383</td>\n",
       "      <td>1.203902</td>\n",
       "      <td>-0.250185</td>\n",
       "    </tr>\n",
       "    <tr>\n",
       "      <th>1</th>\n",
       "      <td>-0.600888</td>\n",
       "      <td>-0.585328</td>\n",
       "      <td>-0.632950</td>\n",
       "      <td>-1.067532</td>\n",
       "      <td>0.256526</td>\n",
       "    </tr>\n",
       "    <tr>\n",
       "      <th>2</th>\n",
       "      <td>-0.249850</td>\n",
       "      <td>-0.069368</td>\n",
       "      <td>-0.156405</td>\n",
       "      <td>-0.438373</td>\n",
       "      <td>0.029016</td>\n",
       "    </tr>\n",
       "    <tr>\n",
       "      <th>3</th>\n",
       "      <td>-0.671456</td>\n",
       "      <td>-0.713421</td>\n",
       "      <td>-0.765541</td>\n",
       "      <td>-0.616716</td>\n",
       "      <td>3.154645</td>\n",
       "    </tr>\n",
       "    <tr>\n",
       "      <th>4</th>\n",
       "      <td>-0.514483</td>\n",
       "      <td>-0.398717</td>\n",
       "      <td>-0.559417</td>\n",
       "      <td>-0.171623</td>\n",
       "      <td>1.053547</td>\n",
       "    </tr>\n",
       "  </tbody>\n",
       "</table>\n",
       "</div>"
      ],
      "text/plain": [
       "   Illiterate  Graduate & above  Total - Population  Percentage Illiterate  \\\n",
       "0   -0.384782         -0.500111           -0.503383               1.203902   \n",
       "1   -0.600888         -0.585328           -0.632950              -1.067532   \n",
       "2   -0.249850         -0.069368           -0.156405              -0.438373   \n",
       "3   -0.671456         -0.713421           -0.765541              -0.616716   \n",
       "4   -0.514483         -0.398717           -0.559417              -0.171623   \n",
       "\n",
       "   Percentage Graduate & above  \n",
       "0                    -0.250185  \n",
       "1                     0.256526  \n",
       "2                     0.029016  \n",
       "3                     3.154645  \n",
       "4                     1.053547  "
      ]
     },
     "execution_count": 8,
     "metadata": {},
     "output_type": "execute_result"
    }
   ],
   "source": [
    "# Converting the np array after scaling to a df\n",
    "\n",
    "Scaled_df=pd.DataFrame(df_scaled)\n",
    "Scaled_df.columns=['Illiterate', 'Graduate & above', 'Total - Population','Percentage Illiterate', 'Percentage Graduate & above']\n",
    "Scaled_df.head()"
   ]
  },
  {
   "cell_type": "code",
   "execution_count": 9,
   "id": "80231703",
   "metadata": {},
   "outputs": [
    {
     "data": {
      "text/plain": [
       "0.7727375406738546"
      ]
     },
     "execution_count": 9,
     "metadata": {},
     "output_type": "execute_result"
    }
   ],
   "source": [
    "#Hopkins Test Statistic Analysis to determine Clustering Tendency\n",
    " \n",
    "def hopkins(X):\n",
    "    d = X.shape[1]\n",
    "    #d = len(vars) # columns\n",
    "    n = len(X) # rows\n",
    "    m = int(0.1 * n) \n",
    "    nbrs = NearestNeighbors(n_neighbors=1).fit(X.values)\n",
    " \n",
    "    rand_X = sample(range(0, n, 1), m)\n",
    " \n",
    "    ujd = []\n",
    "    wjd = []\n",
    "    for j in range(0, m):\n",
    "        u_dist, _ = nbrs.kneighbors(uniform(np.amin(X,axis=0),np.amax(X,axis=0),d).reshape(1, -1), 2, return_distance=True)\n",
    "        ujd.append(u_dist[0][1])\n",
    "        w_dist, _ = nbrs.kneighbors(X.iloc[rand_X[j]].values.reshape(1, -1), 2, return_distance=True)\n",
    "        wjd.append(w_dist[0][1])\n",
    " \n",
    "    H = sum(ujd) / (sum(ujd) + sum(wjd))\n",
    "    if isnan(H):\n",
    "        print(ujd, wjd)\n",
    "        H = 0\n",
    " \n",
    "    return H\n",
    "\n",
    "hopkins(Scaled_df)\n",
    "\n",
    "# Test statistic of value 0.85 shows high clustering Tendency, lets move ahead with finding optimum number of clusters in next step"
   ]
  },
  {
   "cell_type": "code",
   "execution_count": 10,
   "id": "f6182c66",
   "metadata": {},
   "outputs": [
    {
     "data": {
      "image/png": "[encoded data removed]",
      "text/plain": [
       "<Figure size 640x480 with 1 Axes>"
      ]
     },
     "metadata": {},
     "output_type": "display_data"
    }
   ],
   "source": [
    "# Analyzing the optimal number of Clusters using Elbow Curve Method (SSD)\n",
    "\n",
    "ec=[]\n",
    "n=[i for i in range(1,11)]\n",
    "for i in n:\n",
    "    KM=KMeans(n_clusters=i,max_iter=50)\n",
    "    mod=KM.fit(Scaled_df)\n",
    "    ec.append(mod.inertia_)\n",
    "\n",
    "plt.plot(ec)\n",
    "plt.xticks([1,2,3,4,5,6,7,8,9,10])\n",
    "plt.xlabel(\"No of Clusters\")\n",
    "plt.ylabel(\"Sum of Squared Distances\")\n",
    "plt.show()\n",
    "    "
   ]
  },
  {
   "cell_type": "code",
   "execution_count": 11,
   "id": "e6c6dcd5",
   "metadata": {},
   "outputs": [
    {
     "name": "stdout",
     "output_type": "stream",
     "text": [
      "For n_clusters=2, the silhouette score is 0.38913889968693116\n",
      "For n_clusters=3, the silhouette score is 0.29360956319988357\n",
      "For n_clusters=4, the silhouette score is 0.313798638027045\n",
      "For n_clusters=5, the silhouette score is 0.3385024812617021\n",
      "For n_clusters=6, the silhouette score is 0.35407879618855836\n",
      "For n_clusters=7, the silhouette score is 0.33819068321237516\n",
      "For n_clusters=8, the silhouette score is 0.31319613095601806\n",
      "For n_clusters=9, the silhouette score is 0.29351326383626386\n",
      "For n_clusters=10, the silhouette score is 0.2975755139144726\n"
     ]
    }
   ],
   "source": [
    "# Rechecking the optimal Number of clusters using Silhouette Score\n",
    "n=[i for i in range(2,11)]\n",
    "for i in n:\n",
    "    KM=KMeans(n_clusters=i,max_iter=50)\n",
    "    mod=KM.fit(Scaled_df)\n",
    "    labels=mod.labels_\n",
    "    sh=silhouette_score(Scaled_df,labels)\n",
    "    print(\"For n_clusters={0}, the silhouette score is {1}\".format(i, sh))"
   ]
  },
  {
   "cell_type": "code",
   "execution_count": 12,
   "id": "176ec9b1",
   "metadata": {},
   "outputs": [
    {
     "data": {
      "text/plain": [
       "array([4, 5, 0, 5, 0, 0, 0, 2, 1, 2, 5, 4, 0, 0, 0, 5, 4, 4, 3, 4, 0, 0,\n",
       "       2, 3, 5, 0, 3, 3, 3, 5, 5, 5, 3, 5, 5])"
      ]
     },
     "execution_count": 12,
     "metadata": {},
     "output_type": "execute_result"
    }
   ],
   "source": [
    "# As pe Elbow Curve and Silhouette Score we choose the optimal number of clusters to be 5\n",
    "KM=KMeans(n_clusters=6,max_iter=100)\n",
    "mod=KM.fit(Scaled_df.iloc[:,:-1])\n",
    "KM.labels_"
   ]
  },
  {
   "cell_type": "code",
   "execution_count": 13,
   "id": "41614b70",
   "metadata": {},
   "outputs": [
    {
     "data": {
      "text/html": [
       "<div>\n",
       "<style scoped>\n",
       "    .dataframe tbody tr th:only-of-type {\n",
       "        vertical-align: middle;\n",
       "    }\n",
       "\n",
       "    .dataframe tbody tr th {\n",
       "        vertical-align: top;\n",
       "    }\n",
       "\n",
       "    .dataframe thead th {\n",
       "        text-align: right;\n",
       "    }\n",
       "</style>\n",
       "<table border=\"1\" class=\"dataframe\">\n",
       "  <thead>\n",
       "    <tr style=\"text-align: right;\">\n",
       "      <th></th>\n",
       "      <th>Illiterate</th>\n",
       "      <th>Graduate &amp; above</th>\n",
       "      <th>Total - Population</th>\n",
       "      <th>Percentage Illiterate</th>\n",
       "      <th>Percentage Graduate &amp; above</th>\n",
       "      <th>Area Name</th>\n",
       "      <th>Cluster_id</th>\n",
       "    </tr>\n",
       "  </thead>\n",
       "  <tbody>\n",
       "    <tr>\n",
       "      <th>0</th>\n",
       "      <td>-0.384782</td>\n",
       "      <td>-0.500111</td>\n",
       "      <td>-0.503383</td>\n",
       "      <td>1.203902</td>\n",
       "      <td>-0.250185</td>\n",
       "      <td>State - JAMMU &amp; KASHMIR</td>\n",
       "      <td>4</td>\n",
       "    </tr>\n",
       "    <tr>\n",
       "      <th>1</th>\n",
       "      <td>-0.600888</td>\n",
       "      <td>-0.585328</td>\n",
       "      <td>-0.632950</td>\n",
       "      <td>-1.067532</td>\n",
       "      <td>0.256526</td>\n",
       "      <td>State - HIMACHAL PRADESH</td>\n",
       "      <td>5</td>\n",
       "    </tr>\n",
       "    <tr>\n",
       "      <th>2</th>\n",
       "      <td>-0.249850</td>\n",
       "      <td>-0.069368</td>\n",
       "      <td>-0.156405</td>\n",
       "      <td>-0.438373</td>\n",
       "      <td>0.029016</td>\n",
       "      <td>State - PUNJAB</td>\n",
       "      <td>0</td>\n",
       "    </tr>\n",
       "    <tr>\n",
       "      <th>3</th>\n",
       "      <td>-0.671456</td>\n",
       "      <td>-0.713421</td>\n",
       "      <td>-0.765541</td>\n",
       "      <td>-0.616716</td>\n",
       "      <td>3.154645</td>\n",
       "      <td>State - CHANDIGARH</td>\n",
       "      <td>5</td>\n",
       "    </tr>\n",
       "    <tr>\n",
       "      <th>4</th>\n",
       "      <td>-0.514483</td>\n",
       "      <td>-0.398717</td>\n",
       "      <td>-0.559417</td>\n",
       "      <td>-0.171623</td>\n",
       "      <td>1.053547</td>\n",
       "      <td>State - UTTARAKHAND</td>\n",
       "      <td>0</td>\n",
       "    </tr>\n",
       "  </tbody>\n",
       "</table>\n",
       "</div>"
      ],
      "text/plain": [
       "   Illiterate  Graduate & above  Total - Population  Percentage Illiterate  \\\n",
       "0   -0.384782         -0.500111           -0.503383               1.203902   \n",
       "1   -0.600888         -0.585328           -0.632950              -1.067532   \n",
       "2   -0.249850         -0.069368           -0.156405              -0.438373   \n",
       "3   -0.671456         -0.713421           -0.765541              -0.616716   \n",
       "4   -0.514483         -0.398717           -0.559417              -0.171623   \n",
       "\n",
       "   Percentage Graduate & above                 Area Name  Cluster_id  \n",
       "0                    -0.250185   State - JAMMU & KASHMIR           4  \n",
       "1                     0.256526  State - HIMACHAL PRADESH           5  \n",
       "2                     0.029016            State - PUNJAB           0  \n",
       "3                     3.154645        State - CHANDIGARH           5  \n",
       "4                     1.053547       State - UTTARAKHAND           0  "
      ]
     },
     "execution_count": 13,
     "metadata": {},
     "output_type": "execute_result"
    }
   ],
   "source": [
    "Scaled_df['Area Name']=df['Area Name']\n",
    "Scaled_df['Cluster_id']=KM.labels_\n",
    "Scaled_df.head()"
   ]
  },
  {
   "cell_type": "code",
   "execution_count": 14,
   "id": "14e1f3cc",
   "metadata": {},
   "outputs": [
    {
     "data": {
      "text/plain": [
       "Cluster_id\n",
       "5    10\n",
       "0    10\n",
       "3     6\n",
       "4     5\n",
       "2     3\n",
       "1     1\n",
       "Name: count, dtype: int64"
      ]
     },
     "execution_count": 14,
     "metadata": {},
     "output_type": "execute_result"
    }
   ],
   "source": [
    "Scaled_df.Cluster_id.value_counts()"
   ]
  },
  {
   "cell_type": "code",
   "execution_count": 15,
   "id": "7b491737",
   "metadata": {},
   "outputs": [
    {
     "data": {
      "text/plain": [
       "Index(['Illiterate', 'Graduate & above', 'Total - Population',\n",
       "       'Percentage Illiterate', 'Percentage Graduate & above'],\n",
       "      dtype='object')"
      ]
     },
     "execution_count": 15,
     "metadata": {},
     "output_type": "execute_result"
    }
   ],
   "source": [
    "Scaled_df.columns[:-2]"
   ]
  },
  {
   "cell_type": "code",
   "execution_count": 16,
   "id": "aa237118",
   "metadata": {},
   "outputs": [],
   "source": [
    "def plots():\n",
    "    y=Scaled_df.columns[:-2]\n",
    "    for i in y:\n",
    "        sns.boxplot(x='Cluster_id',y=i, data=Scaled_df)\n",
    "        plt.show()"
   ]
  },
  {
   "cell_type": "code",
   "execution_count": 17,
   "id": "c71511f0",
   "metadata": {},
   "outputs": [
    {
     "data": {
      "image/png": "[encoded data removed]",
      "text/plain": [
       "<Figure size 640x480 with 1 Axes>"
      ]
     },
     "metadata": {},
     "output_type": "display_data"
    },
    {
     "data": {
      "image/png": "[encoded data removed]",
      "text/plain": [
       "<Figure size 640x480 with 1 Axes>"
      ]
     },
     "metadata": {},
     "output_type": "display_data"
    },
    {
     "data": {
      "image/png": "[encoded data removed]",
      "text/plain": [
       "<Figure size 640x480 with 1 Axes>"
      ]
     },
     "metadata": {},
     "output_type": "display_data"
    },
    {
     "data": {
      "image/png": "[encoded data removed]",
      "text/plain": [
       "<Figure size 640x480 with 1 Axes>"
      ]
     },
     "metadata": {},
     "output_type": "display_data"
    },
    {
     "data": {
      "image/png": "[encoded data removed]",
      "text/plain": [
       "<Figure size 640x480 with 1 Axes>"
      ]
     },
     "metadata": {},
     "output_type": "display_data"
    }
   ],
   "source": [
    "plots()"
   ]
  },
  {
   "cell_type": "code",
   "execution_count": 18,
   "id": "5f734526",
   "metadata": {},
   "outputs": [
    {
     "data": {
      "text/html": [
       "<div>\n",
       "<style scoped>\n",
       "    .dataframe tbody tr th:only-of-type {\n",
       "        vertical-align: middle;\n",
       "    }\n",
       "\n",
       "    .dataframe tbody tr th {\n",
       "        vertical-align: top;\n",
       "    }\n",
       "\n",
       "    .dataframe thead th {\n",
       "        text-align: right;\n",
       "    }\n",
       "</style>\n",
       "<table border=\"1\" class=\"dataframe\">\n",
       "  <thead>\n",
       "    <tr style=\"text-align: right;\">\n",
       "      <th></th>\n",
       "      <th>Illiterate</th>\n",
       "      <th>Graduate &amp; above</th>\n",
       "      <th>Total - Population</th>\n",
       "      <th>Percentage Illiterate</th>\n",
       "      <th>Percentage Graduate &amp; above</th>\n",
       "      <th>Area Name</th>\n",
       "      <th>Cluster_id</th>\n",
       "    </tr>\n",
       "  </thead>\n",
       "  <tbody>\n",
       "    <tr>\n",
       "      <th>0</th>\n",
       "      <td>-0.384782</td>\n",
       "      <td>-0.500111</td>\n",
       "      <td>-0.503383</td>\n",
       "      <td>1.203902</td>\n",
       "      <td>-0.250185</td>\n",
       "      <td>State - JAMMU &amp; KASHMIR</td>\n",
       "      <td>4</td>\n",
       "    </tr>\n",
       "    <tr>\n",
       "      <th>11</th>\n",
       "      <td>-0.650759</td>\n",
       "      <td>-0.756144</td>\n",
       "      <td>-0.758048</td>\n",
       "      <td>1.632869</td>\n",
       "      <td>-0.699294</td>\n",
       "      <td>State - ARUNACHAL PRADESH</td>\n",
       "      <td>4</td>\n",
       "    </tr>\n",
       "    <tr>\n",
       "      <th>16</th>\n",
       "      <td>-0.607145</td>\n",
       "      <td>-0.741411</td>\n",
       "      <td>-0.721913</td>\n",
       "      <td>1.765172</td>\n",
       "      <td>-1.043098</td>\n",
       "      <td>State - MEGHALAYA</td>\n",
       "      <td>4</td>\n",
       "    </tr>\n",
       "    <tr>\n",
       "      <th>17</th>\n",
       "      <td>0.025259</td>\n",
       "      <td>-0.426347</td>\n",
       "      <td>-0.077381</td>\n",
       "      <td>0.952145</td>\n",
       "      <td>-1.173876</td>\n",
       "      <td>State - ASSAM</td>\n",
       "      <td>4</td>\n",
       "    </tr>\n",
       "    <tr>\n",
       "      <th>19</th>\n",
       "      <td>0.143383</td>\n",
       "      <td>-0.274674</td>\n",
       "      <td>-0.036695</td>\n",
       "      <td>1.413974</td>\n",
       "      <td>-0.838101</td>\n",
       "      <td>State - JHARKHAND</td>\n",
       "      <td>4</td>\n",
       "    </tr>\n",
       "  </tbody>\n",
       "</table>\n",
       "</div>"
      ],
      "text/plain": [
       "    Illiterate  Graduate & above  Total - Population  Percentage Illiterate  \\\n",
       "0    -0.384782         -0.500111           -0.503383               1.203902   \n",
       "11   -0.650759         -0.756144           -0.758048               1.632869   \n",
       "16   -0.607145         -0.741411           -0.721913               1.765172   \n",
       "17    0.025259         -0.426347           -0.077381               0.952145   \n",
       "19    0.143383         -0.274674           -0.036695               1.413974   \n",
       "\n",
       "    Percentage Graduate & above                  Area Name  Cluster_id  \n",
       "0                     -0.250185    State - JAMMU & KASHMIR           4  \n",
       "11                    -0.699294  State - ARUNACHAL PRADESH           4  \n",
       "16                    -1.043098          State - MEGHALAYA           4  \n",
       "17                    -1.173876              State - ASSAM           4  \n",
       "19                    -0.838101          State - JHARKHAND           4  "
      ]
     },
     "execution_count": 18,
     "metadata": {},
     "output_type": "execute_result"
    }
   ],
   "source": [
    "Scaled_df[Scaled_df['Cluster_id']==4]"
   ]
  }
 ],
 "metadata": {
  "kernelspec": {
   "display_name": "base",
   "language": "python",
   "name": "python3"
  },
  "language_info": {
   "codemirror_mode": {
    "name": "ipython",
    "version": 3
   },
   "file_extension": ".py",
   "mimetype": "text/x-python",
   "name": "python",
   "nbconvert_exporter": "python",
   "pygments_lexer": "ipython3",
   "version": "3.11.7"
  }
 },
 "nbformat": 4,
 "nbformat_minor": 5
}
